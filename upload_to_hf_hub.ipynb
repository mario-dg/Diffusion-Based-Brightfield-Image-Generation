{
 "cells": [
  {
   "cell_type": "code",
   "execution_count": 1,
   "metadata": {},
   "outputs": [],
   "source": [
    "from datasets import load_dataset"
   ]
  },
  {
   "cell_type": "code",
   "execution_count": 6,
   "metadata": {},
   "outputs": [
    {
     "name": "stderr",
     "output_type": "stream",
     "text": [
      "  0%|          | 0/27162 [00:00<?, ?it/s]"
     ]
    },
    {
     "name": "stderr",
     "output_type": "stream",
     "text": [
      "100%|██████████| 27162/27162 [01:45<00:00, 257.87it/s]\n",
      "100%|██████████| 3303/3303 [00:12<00:00, 264.49it/s]\n",
      "100%|██████████| 1581/1581 [00:05<00:00, 267.67it/s]\n"
     ]
    }
   ],
   "source": [
    "# import os\n",
    "# import re\n",
    "# import json\n",
    "# from tqdm import tqdm\n",
    "\n",
    "# from pathlib import Path\n",
    "\n",
    "# subdirs = [\"train\", \"val\", \"test\"]\n",
    "# base_path = \"datasets/scc_v1\"\n",
    "\n",
    "# class DataLine:\n",
    "#     def __init__(self, label_path: str) -> None:\n",
    "#         with open(label_path, \"r\") as f:\n",
    "#             lines = f.readlines()\n",
    "#             self.file_name = f\"{Path(label_path).stem}.jpg\"\n",
    "#             self.width = 512\n",
    "#             self.height = 512\n",
    "#             self.objects = {\n",
    "#                 \"bbox\": [],\n",
    "#                 \"categories\": []\n",
    "#             }\n",
    "#             self.well_edge = self._determine_well_edge()\n",
    "#             for line in lines:\n",
    "#                 line = line.replace(\"\\n\", \"\")\n",
    "#                 self.objects[\"bbox\"].append([float(x) for x in line.split(\" \")[1:5]])\n",
    "#                 self.objects[\"categories\"].append(int(line.split(\" \")[0]))\n",
    "\n",
    "#     def _determine_well_edge(self):\n",
    "#         x = int(re.findall(\"_x[0-9]\", self.file_name)[0].replace(\"_x\", \"\"))\n",
    "#         y = int(re.findall(\"_y[0-9]\", self.file_name)[0].replace(\"_y\", \"\"))\n",
    "#         if any(sub in self.file_name for sub in [\"_Sub_0\", \"_Sub_1\", \"_Sub_2\", \"_Sub_3\"]):\n",
    "#             return False\n",
    "#         if \"_Sub_4\" in self.file_name:\n",
    "#             if y >= 4:\n",
    "#                 return True\n",
    "#             if y == 3 and x in [0, 1]:\n",
    "#                 return True\n",
    "#         if \"_Sub_5\" in self.file_name:\n",
    "#             if y >= 4:\n",
    "#                 return True\n",
    "#             if y == 3 and x in [4, 5]:\n",
    "#                 return True\n",
    "#         if \"_Sub_6\" in self.file_name:\n",
    "#             if x >= 4:\n",
    "#                 return True\n",
    "#             if x == 3 and y > 0:\n",
    "#                 return True\n",
    "#             if x == 2 and y > 1:\n",
    "#                 return True\n",
    "#             if x == 1 and y > 2:\n",
    "#                 return True\n",
    "#             if x == 0 and y > 3:\n",
    "#                 return True\n",
    "#         if \"_Sub_7\" in self.file_name:\n",
    "#             if x >= 4:\n",
    "#                 return True\n",
    "#             if x == 3 and y in [3, 4, 5]:\n",
    "#                 return True\n",
    "#             if x == 2 and y == 5:\n",
    "#                 return True\n",
    "#         if \"_Sub_8\" in self.file_name:\n",
    "#             if x >= 4:\n",
    "#                 return True\n",
    "#             if x == 3 and y in [0, 1, 2]:\n",
    "#                 return True\n",
    "#             if x == 2 and y == 0:\n",
    "#                 return True\n",
    "#         if \"_Sub_9\" in self.file_name:\n",
    "#             if y in [0, 1]:\n",
    "#                 return True\n",
    "#             if y == 2 and x > 0:\n",
    "#                 return True\n",
    "#             if y == 3 and x > 1:\n",
    "#                 return True\n",
    "#             if y == 4 and x > 2:\n",
    "#                 return True\n",
    "#             if y == 5 and x > 3:\n",
    "#                 return True\n",
    "#         if \"_Sub_10\" in self.file_name:\n",
    "#             if y == 0:\n",
    "#                 return True\n",
    "#             if y == 1 and x in [1, 2, 3, 4, 5]:\n",
    "#                 return True\n",
    "#             if y == 2 and x in [4, 5]:\n",
    "#                 return True\n",
    "#         if \"_Sub_11\" in self.file_name:\n",
    "#             if y in [0, 1]:\n",
    "#                 return True\n",
    "#             if y == 2 and x == 0:\n",
    "#                 return True\n",
    "#         if \"_Sub_12\" in self.file_name:\n",
    "#             if y == 0:\n",
    "#                 return True\n",
    "#             if y == 1 and x in [0, 1, 2, 3, 4]:\n",
    "#                 return True\n",
    "#             if y == 2 and x in [0, 1, 2, 3]:\n",
    "#                 return True\n",
    "#             if y == 3 and x in [0, 1, 2]:\n",
    "#                 return True\n",
    "#             if y == 4 and x in [0, 1]:\n",
    "#                 return True\n",
    "#             if y == 5 and x == 0:\n",
    "#                 return True\n",
    "#         if \"_Sub_13\" in self.file_name:\n",
    "#             if x == 0:\n",
    "#                 return True\n",
    "#             if x == 1 and y in [0, 1, 2]:\n",
    "#                 return True\n",
    "#             if x == 2 and y == 0:\n",
    "#                 return True\n",
    "#         if \"_Sub_14\" in self.file_name:\n",
    "#             if x == 0:\n",
    "#                 return True\n",
    "#             if x == 1 and y in [2, 3, 4, 5]:\n",
    "#                 return True\n",
    "#             if x == 2 and y == 5:\n",
    "#                 return True\n",
    "#         if \"_Sub_15\" in self.file_name:\n",
    "#             if x in [0, 1]:\n",
    "#                 return True\n",
    "#             if x == 2 and y in [2, 3, 4, 5]:\n",
    "#                 return True\n",
    "#             if x in [3, 4] and y in [3, 4, 5]:\n",
    "#                 return True\n",
    "#             if x == 5 and y in [4, 5]:\n",
    "#                 return True\n",
    "#         if \"_Sub_16\" in self.file_name:\n",
    "#             if x >= 4:\n",
    "#                 return True\n",
    "#             if x == 3 and y in [0, 5]:\n",
    "#                 return True\n",
    "#         if \"_Sub_17\" in self.file_name:\n",
    "#             if x >= 4:\n",
    "#                 return True\n",
    "#             if x == 3 and y in [0, 5]:\n",
    "#                 return True\n",
    "#         if \"_Sub_18\" in self.file_name:\n",
    "#             if x == 0:\n",
    "#                 return True\n",
    "#             if x == 1 and y in [0, 1, 3, 4, 5]:\n",
    "#                 return True\n",
    "#         if \"_Sub_19\" in self.file_name:\n",
    "#             if x == 0:\n",
    "#                 return True\n",
    "#             if x == 1 and y in [0, 1, 3, 4, 5]:\n",
    "#                 return True\n",
    "#         return False\n",
    "            \n",
    "\n",
    "# for subdir in subdirs:\n",
    "#     path = os.path.join(base_path, subdir)\n",
    "#     meta_file = os.path.join(path, \"metadata.jsonl\")\n",
    "#     if os.path.exists(meta_file):\n",
    "#         os.remove(meta_file)\n",
    "#     with open(meta_file, \"w\") as f:\n",
    "#         labels_path = os.path.join(base_path, \"labels\", subdir)\n",
    "#         for img_file in tqdm(os.listdir(path)):\n",
    "#             if img_file.endswith(\".jpg\"):\n",
    "#                 line = DataLine(os.path.join(labels_path, img_file.replace(\".jpg\", \".txt\")))\n",
    "#                 f.write(f\"{json.dumps(line.__dict__)}\\n\")"
   ]
  },
  {
   "cell_type": "code",
   "execution_count": 8,
   "metadata": {},
   "outputs": [
    {
     "data": {
      "application/vnd.jupyter.widget-view+json": {
       "model_id": "8afe9188dcc34f558ca1b01c8442a8fc",
       "version_major": 2,
       "version_minor": 0
      },
      "text/plain": [
       "Resolving data files:   0%|          | 0/27162 [00:00<?, ?it/s]"
      ]
     },
     "metadata": {},
     "output_type": "display_data"
    },
    {
     "data": {
      "application/vnd.jupyter.widget-view+json": {
       "model_id": "8e0d956ae21c4998bdeb0c9e048e697c",
       "version_major": 2,
       "version_minor": 0
      },
      "text/plain": [
       "Resolving data files:   0%|          | 0/3303 [00:00<?, ?it/s]"
      ]
     },
     "metadata": {},
     "output_type": "display_data"
    },
    {
     "data": {
      "application/vnd.jupyter.widget-view+json": {
       "model_id": "db9e17594a5c44fd95a430dee80de480",
       "version_major": 2,
       "version_minor": 0
      },
      "text/plain": [
       "Resolving data files:   0%|          | 0/1581 [00:00<?, ?it/s]"
      ]
     },
     "metadata": {},
     "output_type": "display_data"
    },
    {
     "data": {
      "application/vnd.jupyter.widget-view+json": {
       "model_id": "bc56c60eafac486fbaefe5812f27f114",
       "version_major": 2,
       "version_minor": 0
      },
      "text/plain": [
       "Generating train split: 0 examples [00:00, ? examples/s]"
      ]
     },
     "metadata": {},
     "output_type": "display_data"
    },
    {
     "data": {
      "application/vnd.jupyter.widget-view+json": {
       "model_id": "996f0872bb2841daa0d576a5a28ccc1a",
       "version_major": 2,
       "version_minor": 0
      },
      "text/plain": [
       "Generating validation split: 0 examples [00:00, ? examples/s]"
      ]
     },
     "metadata": {},
     "output_type": "display_data"
    },
    {
     "data": {
      "application/vnd.jupyter.widget-view+json": {
       "model_id": "b7bf6a29ae8b48fe86ff7377f9e4c449",
       "version_major": 2,
       "version_minor": 0
      },
      "text/plain": [
       "Generating test split: 0 examples [00:00, ? examples/s]"
      ]
     },
     "metadata": {},
     "output_type": "display_data"
    }
   ],
   "source": [
    "ds = load_dataset(\"imagefolder\", data_dir=\"./datasets/scc_v1\", drop_labels=False)"
   ]
  },
  {
   "cell_type": "code",
   "execution_count": 9,
   "metadata": {},
   "outputs": [
    {
     "data": {
      "application/vnd.jupyter.widget-view+json": {
       "model_id": "10ace710a52a4a4a938d91ecc637f673",
       "version_major": 2,
       "version_minor": 0
      },
      "text/plain": [
       "Uploading the dataset shards:   0%|          | 0/14 [00:00<?, ?it/s]"
      ]
     },
     "metadata": {},
     "output_type": "display_data"
    },
    {
     "data": {
      "application/vnd.jupyter.widget-view+json": {
       "model_id": "77dc9b2e3a5a4fdcaed4551896ec937e",
       "version_major": 2,
       "version_minor": 0
      },
      "text/plain": [
       "Map:   0%|          | 0/1941 [00:00<?, ? examples/s]"
      ]
     },
     "metadata": {},
     "output_type": "display_data"
    },
    {
     "data": {
      "application/vnd.jupyter.widget-view+json": {
       "model_id": "261f3c8444504bc1b2747cac1728f1df",
       "version_major": 2,
       "version_minor": 0
      },
      "text/plain": [
       "Creating parquet from Arrow format:   0%|          | 0/20 [00:00<?, ?ba/s]"
      ]
     },
     "metadata": {},
     "output_type": "display_data"
    },
    {
     "data": {
      "application/vnd.jupyter.widget-view+json": {
       "model_id": "57c802876a03420ca08e5546acc51bc3",
       "version_major": 2,
       "version_minor": 0
      },
      "text/plain": [
       "Map:   0%|          | 0/1940 [00:00<?, ? examples/s]"
      ]
     },
     "metadata": {},
     "output_type": "display_data"
    },
    {
     "data": {
      "application/vnd.jupyter.widget-view+json": {
       "model_id": "afde05687a6a42fb85e10283d483bc1a",
       "version_major": 2,
       "version_minor": 0
      },
      "text/plain": [
       "Creating parquet from Arrow format:   0%|          | 0/20 [00:00<?, ?ba/s]"
      ]
     },
     "metadata": {},
     "output_type": "display_data"
    },
    {
     "data": {
      "application/vnd.jupyter.widget-view+json": {
       "model_id": "c8e58d2b1bd749649f31df5a7100cfde",
       "version_major": 2,
       "version_minor": 0
      },
      "text/plain": [
       "Map:   0%|          | 0/1940 [00:00<?, ? examples/s]"
      ]
     },
     "metadata": {},
     "output_type": "display_data"
    },
    {
     "data": {
      "application/vnd.jupyter.widget-view+json": {
       "model_id": "61cbc3542c4f40eca3e9bb096612625c",
       "version_major": 2,
       "version_minor": 0
      },
      "text/plain": [
       "Creating parquet from Arrow format:   0%|          | 0/20 [00:00<?, ?ba/s]"
      ]
     },
     "metadata": {},
     "output_type": "display_data"
    },
    {
     "data": {
      "application/vnd.jupyter.widget-view+json": {
       "model_id": "008d0363488040839dfd184cbf78aa31",
       "version_major": 2,
       "version_minor": 0
      },
      "text/plain": [
       "Map:   0%|          | 0/1940 [00:00<?, ? examples/s]"
      ]
     },
     "metadata": {},
     "output_type": "display_data"
    },
    {
     "data": {
      "application/vnd.jupyter.widget-view+json": {
       "model_id": "5104ab40265944f980c934415cab11c1",
       "version_major": 2,
       "version_minor": 0
      },
      "text/plain": [
       "Creating parquet from Arrow format:   0%|          | 0/20 [00:00<?, ?ba/s]"
      ]
     },
     "metadata": {},
     "output_type": "display_data"
    },
    {
     "data": {
      "application/vnd.jupyter.widget-view+json": {
       "model_id": "f76c2673d2a04ac48f38aca5a228ac1f",
       "version_major": 2,
       "version_minor": 0
      },
      "text/plain": [
       "Map:   0%|          | 0/1940 [00:00<?, ? examples/s]"
      ]
     },
     "metadata": {},
     "output_type": "display_data"
    },
    {
     "data": {
      "application/vnd.jupyter.widget-view+json": {
       "model_id": "c51fb72ba3c143c6bdda87b9785ddcb1",
       "version_major": 2,
       "version_minor": 0
      },
      "text/plain": [
       "Creating parquet from Arrow format:   0%|          | 0/20 [00:00<?, ?ba/s]"
      ]
     },
     "metadata": {},
     "output_type": "display_data"
    },
    {
     "data": {
      "application/vnd.jupyter.widget-view+json": {
       "model_id": "8acbbcd3a1d24cacb10fb7c93a6c8039",
       "version_major": 2,
       "version_minor": 0
      },
      "text/plain": [
       "Map:   0%|          | 0/1940 [00:00<?, ? examples/s]"
      ]
     },
     "metadata": {},
     "output_type": "display_data"
    },
    {
     "data": {
      "application/vnd.jupyter.widget-view+json": {
       "model_id": "cc4668a68fc640c78016f758640d00ed",
       "version_major": 2,
       "version_minor": 0
      },
      "text/plain": [
       "Creating parquet from Arrow format:   0%|          | 0/20 [00:00<?, ?ba/s]"
      ]
     },
     "metadata": {},
     "output_type": "display_data"
    },
    {
     "data": {
      "application/vnd.jupyter.widget-view+json": {
       "model_id": "a5fba0903ee94d129547e8d4884c4599",
       "version_major": 2,
       "version_minor": 0
      },
      "text/plain": [
       "Map:   0%|          | 0/1940 [00:00<?, ? examples/s]"
      ]
     },
     "metadata": {},
     "output_type": "display_data"
    },
    {
     "data": {
      "application/vnd.jupyter.widget-view+json": {
       "model_id": "c2a8ac267d134016bf794d6dda9013de",
       "version_major": 2,
       "version_minor": 0
      },
      "text/plain": [
       "Creating parquet from Arrow format:   0%|          | 0/20 [00:00<?, ?ba/s]"
      ]
     },
     "metadata": {},
     "output_type": "display_data"
    },
    {
     "data": {
      "application/vnd.jupyter.widget-view+json": {
       "model_id": "47b0f0f1055b4133aad7e0757818035e",
       "version_major": 2,
       "version_minor": 0
      },
      "text/plain": [
       "Map:   0%|          | 0/1940 [00:00<?, ? examples/s]"
      ]
     },
     "metadata": {},
     "output_type": "display_data"
    },
    {
     "data": {
      "application/vnd.jupyter.widget-view+json": {
       "model_id": "1b7b68b24e9d4c7fbc039e0ef1658d0c",
       "version_major": 2,
       "version_minor": 0
      },
      "text/plain": [
       "Creating parquet from Arrow format:   0%|          | 0/20 [00:00<?, ?ba/s]"
      ]
     },
     "metadata": {},
     "output_type": "display_data"
    },
    {
     "data": {
      "application/vnd.jupyter.widget-view+json": {
       "model_id": "6273005a3b3a4cefa177745c31371e29",
       "version_major": 2,
       "version_minor": 0
      },
      "text/plain": [
       "Map:   0%|          | 0/1940 [00:00<?, ? examples/s]"
      ]
     },
     "metadata": {},
     "output_type": "display_data"
    },
    {
     "data": {
      "application/vnd.jupyter.widget-view+json": {
       "model_id": "3318a6397983427986ef1c32e6b795a2",
       "version_major": 2,
       "version_minor": 0
      },
      "text/plain": [
       "Creating parquet from Arrow format:   0%|          | 0/20 [00:00<?, ?ba/s]"
      ]
     },
     "metadata": {},
     "output_type": "display_data"
    },
    {
     "data": {
      "application/vnd.jupyter.widget-view+json": {
       "model_id": "6380e85c688048c6ba32c52b99f9fd74",
       "version_major": 2,
       "version_minor": 0
      },
      "text/plain": [
       "Map:   0%|          | 0/1940 [00:00<?, ? examples/s]"
      ]
     },
     "metadata": {},
     "output_type": "display_data"
    },
    {
     "data": {
      "application/vnd.jupyter.widget-view+json": {
       "model_id": "06ae304c7d5145db93e57d6a843bd077",
       "version_major": 2,
       "version_minor": 0
      },
      "text/plain": [
       "Creating parquet from Arrow format:   0%|          | 0/20 [00:00<?, ?ba/s]"
      ]
     },
     "metadata": {},
     "output_type": "display_data"
    },
    {
     "data": {
      "application/vnd.jupyter.widget-view+json": {
       "model_id": "814a4d18f7664cc0bad028f2292a8a69",
       "version_major": 2,
       "version_minor": 0
      },
      "text/plain": [
       "Map:   0%|          | 0/1940 [00:00<?, ? examples/s]"
      ]
     },
     "metadata": {},
     "output_type": "display_data"
    },
    {
     "data": {
      "application/vnd.jupyter.widget-view+json": {
       "model_id": "f0217f7d87064a11b0e7f5ce51f006ea",
       "version_major": 2,
       "version_minor": 0
      },
      "text/plain": [
       "Creating parquet from Arrow format:   0%|          | 0/20 [00:00<?, ?ba/s]"
      ]
     },
     "metadata": {},
     "output_type": "display_data"
    },
    {
     "data": {
      "application/vnd.jupyter.widget-view+json": {
       "model_id": "113b24342eb74118b1cec4435554eb0f",
       "version_major": 2,
       "version_minor": 0
      },
      "text/plain": [
       "Map:   0%|          | 0/1940 [00:00<?, ? examples/s]"
      ]
     },
     "metadata": {},
     "output_type": "display_data"
    },
    {
     "data": {
      "application/vnd.jupyter.widget-view+json": {
       "model_id": "e9ff9cebbedd4a35a41617d4e0fc87a7",
       "version_major": 2,
       "version_minor": 0
      },
      "text/plain": [
       "Creating parquet from Arrow format:   0%|          | 0/20 [00:00<?, ?ba/s]"
      ]
     },
     "metadata": {},
     "output_type": "display_data"
    },
    {
     "data": {
      "application/vnd.jupyter.widget-view+json": {
       "model_id": "be6c6c63f2dc4dccb872e9c6a1f0f9bf",
       "version_major": 2,
       "version_minor": 0
      },
      "text/plain": [
       "Map:   0%|          | 0/1940 [00:00<?, ? examples/s]"
      ]
     },
     "metadata": {},
     "output_type": "display_data"
    },
    {
     "data": {
      "application/vnd.jupyter.widget-view+json": {
       "model_id": "0cb38cf8433d4f6eb4d6b26479b7db72",
       "version_major": 2,
       "version_minor": 0
      },
      "text/plain": [
       "Creating parquet from Arrow format:   0%|          | 0/20 [00:00<?, ?ba/s]"
      ]
     },
     "metadata": {},
     "output_type": "display_data"
    },
    {
     "data": {
      "application/vnd.jupyter.widget-view+json": {
       "model_id": "af3d181584cc497d91d496b0050a7698",
       "version_major": 2,
       "version_minor": 0
      },
      "text/plain": [
       "Map:   0%|          | 0/1940 [00:00<?, ? examples/s]"
      ]
     },
     "metadata": {},
     "output_type": "display_data"
    },
    {
     "data": {
      "application/vnd.jupyter.widget-view+json": {
       "model_id": "d027a811cea84ac4900359d5651f4943",
       "version_major": 2,
       "version_minor": 0
      },
      "text/plain": [
       "Creating parquet from Arrow format:   0%|          | 0/20 [00:00<?, ?ba/s]"
      ]
     },
     "metadata": {},
     "output_type": "display_data"
    },
    {
     "data": {
      "application/vnd.jupyter.widget-view+json": {
       "model_id": "2fdd069b7d6b44e2a100a2c557b11ae4",
       "version_major": 2,
       "version_minor": 0
      },
      "text/plain": [
       "Uploading the dataset shards:   0%|          | 0/2 [00:00<?, ?it/s]"
      ]
     },
     "metadata": {},
     "output_type": "display_data"
    },
    {
     "data": {
      "application/vnd.jupyter.widget-view+json": {
       "model_id": "ec659b3e3cd945f7b37c92eddb3c7d4e",
       "version_major": 2,
       "version_minor": 0
      },
      "text/plain": [
       "Map:   0%|          | 0/1651 [00:00<?, ? examples/s]"
      ]
     },
     "metadata": {},
     "output_type": "display_data"
    },
    {
     "data": {
      "application/vnd.jupyter.widget-view+json": {
       "model_id": "159554dc90c14c9c824d9bc084fcac28",
       "version_major": 2,
       "version_minor": 0
      },
      "text/plain": [
       "Creating parquet from Arrow format:   0%|          | 0/17 [00:00<?, ?ba/s]"
      ]
     },
     "metadata": {},
     "output_type": "display_data"
    },
    {
     "data": {
      "application/vnd.jupyter.widget-view+json": {
       "model_id": "a3947c5d46e34c1f903cc5d3ae98a720",
       "version_major": 2,
       "version_minor": 0
      },
      "text/plain": [
       "Map:   0%|          | 0/1651 [00:00<?, ? examples/s]"
      ]
     },
     "metadata": {},
     "output_type": "display_data"
    },
    {
     "data": {
      "application/vnd.jupyter.widget-view+json": {
       "model_id": "2a696a0a40104e0abbea6e19aca3b315",
       "version_major": 2,
       "version_minor": 0
      },
      "text/plain": [
       "Creating parquet from Arrow format:   0%|          | 0/17 [00:00<?, ?ba/s]"
      ]
     },
     "metadata": {},
     "output_type": "display_data"
    },
    {
     "data": {
      "application/vnd.jupyter.widget-view+json": {
       "model_id": "41cbc0505db042428ebce3d0024b19da",
       "version_major": 2,
       "version_minor": 0
      },
      "text/plain": [
       "Uploading the dataset shards:   0%|          | 0/1 [00:00<?, ?it/s]"
      ]
     },
     "metadata": {},
     "output_type": "display_data"
    },
    {
     "data": {
      "application/vnd.jupyter.widget-view+json": {
       "model_id": "a8c6c573089f488e88c017a869e5b241",
       "version_major": 2,
       "version_minor": 0
      },
      "text/plain": [
       "Map:   0%|          | 0/1580 [00:00<?, ? examples/s]"
      ]
     },
     "metadata": {},
     "output_type": "display_data"
    },
    {
     "data": {
      "application/vnd.jupyter.widget-view+json": {
       "model_id": "eb91eb046f7749c6b46734cdb51f5dba",
       "version_major": 2,
       "version_minor": 0
      },
      "text/plain": [
       "Creating parquet from Arrow format:   0%|          | 0/16 [00:00<?, ?ba/s]"
      ]
     },
     "metadata": {},
     "output_type": "display_data"
    },
    {
     "data": {
      "application/vnd.jupyter.widget-view+json": {
       "model_id": "38979cc20d934c0db05551ead3509930",
       "version_major": 2,
       "version_minor": 0
      },
      "text/plain": [
       "README.md:   0%|          | 0.00/4.13k [00:00<?, ?B/s]"
      ]
     },
     "metadata": {},
     "output_type": "display_data"
    },
    {
     "data": {
      "text/plain": [
       "CommitInfo(commit_url='https://huggingface.co/datasets/mario-dg/brightfield-microscopy-scc/commit/72b3641b30de72872d1df6940ecebd757c441518', commit_message='Add well_edge column to metadata.jsonl to indicate which image contains the microtiter plate well edge.', commit_description='', oid='72b3641b30de72872d1df6940ecebd757c441518', pr_url=None, pr_revision=None, pr_num=None)"
      ]
     },
     "execution_count": 9,
     "metadata": {},
     "output_type": "execute_result"
    }
   ],
   "source": [
    "ds.push_to_hub(\"mario-dg/brightfield-microscopy-scc\", private=True, commit_message=\"Add well_edge column to metadata.jsonl to indicate which image contains the microtiter plate well edge.\")"
   ]
  }
 ],
 "metadata": {
  "kernelspec": {
   "display_name": ".venv",
   "language": "python",
   "name": "python3"
  },
  "language_info": {
   "codemirror_mode": {
    "name": "ipython",
    "version": 3
   },
   "file_extension": ".py",
   "mimetype": "text/x-python",
   "name": "python",
   "nbconvert_exporter": "python",
   "pygments_lexer": "ipython3",
   "version": "3.10.10"
  }
 },
 "nbformat": 4,
 "nbformat_minor": 2
}
